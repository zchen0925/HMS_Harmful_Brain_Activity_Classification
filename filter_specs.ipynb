{
 "cells": [
  {
   "cell_type": "code",
   "execution_count": 1,
   "metadata": {},
   "outputs": [],
   "source": [
    "import numpy as np\n",
    "import pandas as pd"
   ]
  },
  {
   "cell_type": "markdown",
   "metadata": {},
   "source": [
    "Subsetting EEG spectrograms and Kaggle spectrograms from HMS - Harmful Brain Activity classification to match our data preprocessing criteria. \n",
    "\n",
    "[EEG spectrograms](https://www.kaggle.com/datasets/cdeotte/brain-eeg-spectrograms) and [Kaggle spectrograms](https://www.kaggle.com/datasets/cdeotte/brain-spectrograms) are made available on Kaggle by Chris Deotte and come from [HMS - Harmful Brain Activity Classification](https://www.kaggle.com/competitions/hms-harmful-brain-activity-classification/data)"
   ]
  },
  {
   "cell_type": "code",
   "execution_count": 2,
   "metadata": {},
   "outputs": [],
   "source": [
    "all_df = pd.read_csv(\"train.csv\")   #entire dataset\n",
    "\n",
    "#train = pd.read_csv('filtered_train.csv')  #our filtered dataset \n",
    "\n",
    "#using resampled data\n",
    "train = pd.read_csv('resampled_data.csv')\n",
    "train_ids = train['eeg_id'].values"
   ]
  },
  {
   "cell_type": "code",
   "execution_count": 3,
   "metadata": {},
   "outputs": [],
   "source": [
    "all_eeg_spectrograms = np.load('eeg_specs.npy',allow_pickle=True).item()"
   ]
  },
  {
   "cell_type": "code",
   "execution_count": 4,
   "metadata": {},
   "outputs": [],
   "source": [
    "all_k_spectrograms = np.load('specs.npy',allow_pickle=True).item()"
   ]
  },
  {
   "cell_type": "code",
   "execution_count": 5,
   "metadata": {},
   "outputs": [
    {
     "name": "stdout",
     "output_type": "stream",
     "text": [
      "11138\n"
     ]
    }
   ],
   "source": [
    "k_ids = list(all_k_spectrograms.keys())\n",
    "lookup_keys = {}\n",
    "for key in k_ids:\n",
    "    matching_rows = all_df.loc[all_df['spectrogram_id'] == key]\n",
    "    corresponding_eeg_id = matching_rows['eeg_id'].iloc[0]\n",
    "    lookup_keys[key] = corresponding_eeg_id\n",
    "print(len(lookup_keys))"
   ]
  },
  {
   "cell_type": "code",
   "execution_count": 6,
   "metadata": {},
   "outputs": [
    {
     "name": "stdout",
     "output_type": "stream",
     "text": [
      "11138\n",
      "(304, 400)\n"
     ]
    }
   ],
   "source": [
    "all_k_spectrograms1 = {lookup_keys[key]:all_k_spectrograms[key] for key in all_k_spectrograms}\n",
    "print(len(all_k_spectrograms1))\n",
    "print(all_k_spectrograms1[lookup_keys[k_ids[3]]].shape)"
   ]
  },
  {
   "cell_type": "code",
   "execution_count": 7,
   "metadata": {},
   "outputs": [
    {
     "name": "stdout",
     "output_type": "stream",
     "text": [
      "416\n"
     ]
    }
   ],
   "source": [
    "mutual_subset_ids = set(all_k_spectrograms1.keys()).intersection(set(train_ids))\n",
    "print(len(mutual_subset_ids))\n"
   ]
  },
  {
   "cell_type": "code",
   "execution_count": 11,
   "metadata": {},
   "outputs": [
    {
     "name": "stdout",
     "output_type": "stream",
     "text": [
      "416\n",
      "550\n",
      "416\n"
     ]
    }
   ],
   "source": [
    "eeg_specs = {k: v for k, v in all_eeg_spectrograms.items() if k in train_ids}\n",
    "filtered_eeg_specs = {k: v for k, v in all_eeg_spectrograms.items() if k in mutual_subset_ids}\n",
    "specs = {k: v for k, v in all_k_spectrograms1.items() if k in train_ids}\n",
    "\n",
    "print(len(specs))\n",
    "print(len(eeg_specs))\n",
    "print(len(filtered_eeg_specs))"
   ]
  },
  {
   "cell_type": "code",
   "execution_count": 12,
   "metadata": {},
   "outputs": [],
   "source": [
    "eeg_f = np.array(list(eeg_specs.items()), dtype=object)\n",
    "np.save('filtered_eeg_specs.npy', eeg_f)\n",
    "\n",
    "eeg_f1 = np.array(list(filtered_eeg_specs.items()), dtype=object)\n",
    "np.save('mutual_subset_eeg_specs.npy', eeg_f1)\n",
    "\n",
    "specs_f = np.array(list(specs.items()), dtype=object)\n",
    "np.save('filtered_specs.npy', specs_f)"
   ]
  }
 ],
 "metadata": {
  "kernelspec": {
   "display_name": "base",
   "language": "python",
   "name": "python3"
  },
  "language_info": {
   "codemirror_mode": {
    "name": "ipython",
    "version": 3
   },
   "file_extension": ".py",
   "mimetype": "text/x-python",
   "name": "python",
   "nbconvert_exporter": "python",
   "pygments_lexer": "ipython3",
   "version": "3.11.4"
  }
 },
 "nbformat": 4,
 "nbformat_minor": 2
}
